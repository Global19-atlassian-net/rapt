{
 "cells": [
  {
   "cell_type": "markdown",
   "metadata": {},
   "source": [
    "# Read Assembly and Annotation Pipeline Tool (RAPT)\n",
    "\n",
    "This Jupyter notebook is inteaded to show you how to run RAPT on your own machine. Note that Jupyter is not required, we are merely using for the convience of interleaving documentation with the shell commands. \n",
    "\n",
    "## Requirements\n",
    "\n",
    "To run the PGAP pipeline you will need:\n",
    "* Python (version 3.5 or higher), \n",
    "* the ability to run Docker (see https://docs.docker.com/install/ if it is not already installed),\n",
    "* about 100GB of storage for the supplemental data and working space,\n",
    "* and 2GB-4GB of memory available per CPU used by your container.\n",
    "* Debian 10 is currently not supported.\n",
    "* The CPU must have SSE 4.2 support (released in 2008). "
   ]
  },
  {
   "cell_type": "markdown",
   "metadata": {},
   "source": [
    "## Installation\n",
    "\n",
    "There are two main components to this pipeline, the SKESA assembler and PGAP annotator. \n",
    "\n",
    "1. Install SKESA using the docker image\n",
    "1. Install PGAP using its control software, `pgap.py`"
   ]
  },
  {
   "cell_type": "code",
   "execution_count": null,
   "metadata": {},
   "outputs": [],
   "source": [
    "%%time\n",
    "!docker pull ncbi/skesa:v2.3.0"
   ]
  },
  {
   "cell_type": "code",
   "execution_count": null,
   "metadata": {},
   "outputs": [],
   "source": [
    "%%time\n",
    "!curl -OL https://github.com/ncbi/pgap/raw/prod/scripts/pgap.py\n",
    "!chmod +x pgap.py\n",
    "!./pgap.py --taxcheck --update > pgap_update.log"
   ]
  },
  {
   "cell_type": "markdown",
   "metadata": {},
   "source": [
    "## Running the pipelines\n",
    "\n",
    "The pipeline can be run on data in NCBI's SRA project, or using your own provided fasta/fastq files. The following example uses a run from SRA, in which case, the data is downloaded automatically.\n",
    "\n",
    "First we set the parameters:"
   ]
  },
  {
   "cell_type": "code",
   "execution_count": null,
   "metadata": {},
   "outputs": [],
   "source": [
    "SRR = \"SRR4835107\"\n",
    "genus_species = \"Salmonella enterica\"\n",
    "topology = \"linear\"\n",
    "bioproject = \"PRJNA316728\"\n",
    "biosample = \"SAMN04160831\""
   ]
  },
  {
   "cell_type": "markdown",
   "metadata": {},
   "source": [
    "## Run SKESA"
   ]
  },
  {
   "cell_type": "code",
   "execution_count": null,
   "metadata": {},
   "outputs": [],
   "source": [
    "%%time\n",
    "!docker run --rm ncbi/skesa:v2.3.0 skesa --sra_run $SRR > ${SRR}.skesa.fa"
   ]
  },
  {
   "cell_type": "markdown",
   "metadata": {},
   "source": [
    "## Create YAML Input files\n",
    "\n",
    "To run PGAP, we must first create two YAML files to describe the input. The following Python code does this, based upon the variables set above. You don't need to use it, any text editor can create the files as well. The documentation for the files may be found at <https://github.com/ncbi/pgap/wiki/Input-Files> "
   ]
  },
  {
   "cell_type": "code",
   "execution_count": null,
   "metadata": {},
   "outputs": [],
   "source": [
    "input_data = f'''\n",
    "fasta:\n",
    "  class: File\n",
    "  location: {SRR}.skesa.fa\n",
    "submol:\n",
    "  class: File\n",
    "  location: {SRR}_submol.yaml\n",
    "report_usage: True\n",
    "'''\n",
    "\n",
    "submol_data = f'''\n",
    "topology: {topology}\n",
    "organism:\n",
    "    genus_species: '{genus_species}'\n",
    "    strain: 'replaceme'\n",
    "contact_info:\n",
    "    last_name: 'Doe'\n",
    "    first_name: 'Jane'\n",
    "    email: 'jane_doe@gmail.com'\n",
    "    organization: 'Institute of Klebsiella foobarensis research'\n",
    "    department: 'Department of Using NCBI'\n",
    "    phone: '301-555-0245'\n",
    "    street: '1234 Main St'\n",
    "    city: 'Docker'\n",
    "    postal_code: '12345'\n",
    "    country: 'Lappland'\n",
    "    \n",
    "authors:\n",
    "    -     author:\n",
    "            first_name: 'Arnold'\n",
    "            last_name: 'Schwarzenegger'\n",
    "            middle_initial: 'T'\n",
    "    -     author:\n",
    "            first_name: 'Linda'\n",
    "            last_name: 'Hamilton'\n",
    "bioproject: '{bioproject}'\n",
    "biosample: '{biosample}'      \n",
    "# -- Locus tag prefix - optional. Limited to 9 letters. Unless the locus tag prefix was officially assigned by NCBI, ENA, or DDBJ, it will be replaced upon submission of the annotation to NCBI and is therefore temporary and not to be used in publications. If not provided, pgaptmp will be used.\n",
    "locus_tag_prefix: 'tmp'\n",
    "publications:\n",
    "    - publication:\n",
    "        pmid: 16397293\n",
    "        title: 'Discrete CHARMm of Klebsiella foobarensis. Journal of Improbable Results, vol. 34, issue 13, pages: 10001-100005, 2018'\n",
    "        status: published  # this is enum: controlled vocabulary\n",
    "        authors:\n",
    "            - author:\n",
    "                first_name: 'Arnold'\n",
    "                last_name: 'Schwarzenegger'\n",
    "                middle_initial: 'T'\n",
    "            - author:\n",
    "                  first_name: 'Linda'\n",
    "                  last_name: 'Hamilton'\n",
    "'''\n",
    "\n",
    "# Code for printing to a file \n",
    "input = open(f'{SRR}_input.yaml', 'w')   \n",
    "print(input_data, file = input) \n",
    "input.close()\n",
    "\n",
    "submol = open(f'{SRR}_submol.yaml', 'w')   \n",
    "print(submol_data, file = submol) \n",
    "submol.close()"
   ]
  },
  {
   "cell_type": "markdown",
   "metadata": {},
   "source": [
    "## Run PGAP\n",
    "\n",
    "We run pgap using the previously downloaded `pgap.py` utility and also check the taxon using an optional feature which compares the Average Nucleotide Identity to type assemblies. Note that this is the same process described in <https://github.com/ncbi/pgap/wiki/Quick-Start>"
   ]
  },
  {
   "cell_type": "code",
   "execution_count": null,
   "metadata": {},
   "outputs": [],
   "source": [
    "%%time\n",
    "!./pgap.py --taxcheck -o ${SRR}_results ${SRR}_input.yaml"
   ]
  },
  {
   "cell_type": "code",
   "execution_count": null,
   "metadata": {},
   "outputs": [],
   "source": []
  }
 ],
 "metadata": {
  "kernelspec": {
   "display_name": "Python 3",
   "language": "python",
   "name": "python3"
  },
  "language_info": {
   "codemirror_mode": {
    "name": "ipython",
    "version": 3
   },
   "file_extension": ".py",
   "mimetype": "text/x-python",
   "name": "python",
   "nbconvert_exporter": "python",
   "pygments_lexer": "ipython3",
   "version": "3.6.8"
  }
 },
 "nbformat": 4,
 "nbformat_minor": 4
}
